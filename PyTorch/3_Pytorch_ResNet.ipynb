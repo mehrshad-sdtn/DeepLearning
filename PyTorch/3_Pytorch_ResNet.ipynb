{
  "nbformat": 4,
  "nbformat_minor": 0,
  "metadata": {
    "colab": {
      "provenance": [],
      "gpuType": "L4",
      "authorship_tag": "ABX9TyM1PRfC2VYurIWR2Ijl39Zy",
      "include_colab_link": true
    },
    "kernelspec": {
      "name": "python3",
      "display_name": "Python 3"
    },
    "language_info": {
      "name": "python"
    },
    "accelerator": "GPU"
  },
  "cells": [
    {
      "cell_type": "markdown",
      "metadata": {
        "id": "view-in-github",
        "colab_type": "text"
      },
      "source": [
        "<a href=\"https://colab.research.google.com/github/mehrshad-sdtn/DeepLearning/blob/master/PyTorch/3_Pytorch_ResNet.ipynb\" target=\"_parent\"><img src=\"https://colab.research.google.com/assets/colab-badge.svg\" alt=\"Open In Colab\"/></a>"
      ]
    },
    {
      "cell_type": "code",
      "execution_count": 1,
      "metadata": {
        "id": "YoMtnrm3yMcp"
      },
      "outputs": [],
      "source": [
        "# prompt: import all the necessary packages for common pytorch programs\n",
        "\n",
        "import torch\n",
        "import torchvision\n",
        "import torchvision.transforms as transforms\n",
        "from torch.utils.data import DataLoader\n",
        "import torchvision.datasets as datasets\n",
        "import torch.nn as nn\n",
        "import torch.nn.functional as F\n",
        "import torch.optim as optim\n",
        "from torchvision import models\n",
        "import os\n"
      ]
    },
    {
      "cell_type": "code",
      "source": [
        "class Block(nn.Module):\n",
        "  def __init__(self, in_channels, out_channels, identity_downsample=None, stride=1):\n",
        "    super(Block, self).__init__()\n",
        "    self.expansion = 4\n",
        "    self.conv1 = nn.Conv2d(in_channels, out_channels, kernel_size=1, stride=1, padding=0)\n",
        "    self.bn1 = nn.BatchNorm2d(out_channels)\n",
        "    self.conv2 = nn.Conv2d(out_channels, out_channels, kernel_size=3, stride=stride, padding=1)\n",
        "    self.bn2 = nn.BatchNorm2d(out_channels)\n",
        "    self.conv3 = nn.Conv2d(out_channels, out_channels * self.expansion, kernel_size=1, stride=1, padding=0)\n",
        "    self.bn3 = nn.BatchNorm2d(out_channels * self.expansion)\n",
        "    self.relu = nn.ReLU()\n",
        "    self.identity_downsample = identity_downsample\n",
        "\n",
        "  def forward(self, x):\n",
        "    identity = x\n",
        "    x = self.conv1(x)\n",
        "    x = self.bn1(x)\n",
        "    x = self.relu(x)\n",
        "    x = self.conv2(x)\n",
        "    x = self.bn2(x)\n",
        "    x = self.relu(x)\n",
        "    x = self.conv3(x)\n",
        "    x = self.bn3(x)\n",
        "    if self.identity_downsample is not None:\n",
        "      identity = self.identity_downsample(identity)\n",
        "    x += identity\n",
        "    x = self.relu(x)\n",
        "    return x\n",
        "\n",
        "\n",
        "class ResNet(nn.Module):\n",
        "  def __init__(self, Block, layers, image_channels, num_classes):\n",
        "    super(ResNet, self).__init__()\n",
        "    self.in_channels = 64\n",
        "    self.conv1 = nn.Conv2d(image_channels, 64, kernel_size=7, stride=2, padding=3)\n",
        "    self.bn1 = nn.BatchNorm2d(64)\n",
        "    self.relu = nn.ReLU()\n",
        "    self.maxpool = nn.MaxPool2d(kernel_size=3, stride=2, padding=1)\n",
        "\n",
        "    # ResNet layers\n",
        "    self.layer1 = self._make_layer(Block, layers[0], out_channels=64, stride=1)\n",
        "    self.layer2 = self._make_layer(Block, layers[1], out_channels=128, stride=2)\n",
        "    self.layer3 = self._make_layer(Block, layers[2], out_channels=256, stride=2)\n",
        "    self.layer4 = self._make_layer(Block, layers[3], out_channels=512, stride=2)\n",
        "\n",
        "    self.avgpool = nn.AdaptiveAvgPool2d((1, 1))\n",
        "    self.fc = nn.Linear(512 * 4, num_classes)\n",
        "\n",
        "  def forward(self, x):\n",
        "    x = self.conv1(x)\n",
        "    x = self.bn1(x)\n",
        "    x = self.relu(x)\n",
        "    x = self.maxpool(x)\n",
        "    x = self.layer1(x)\n",
        "    x = self.layer2(x)\n",
        "    x = self.layer3(x)\n",
        "    x = self.layer4(x)\n",
        "\n",
        "    x = self.avgpool(x)\n",
        "    x = x.reshape(x.shape[0], -1)\n",
        "    x = self.fc(x)\n",
        "    return x\n",
        "\n",
        "\n",
        "  def _make_layer(self, Block, num_residual_blocks, out_channels, stride):\n",
        "    identity_downsample = None\n",
        "    layers = []\n",
        "\n",
        "    if stride != 1 or self.in_channels != out_channels * 4:\n",
        "      identity_downsample = nn.Sequential(\n",
        "          nn.Conv2d(self.in_channels, out_channels * 4, kernel_size=1, stride=stride),\n",
        "          nn.BatchNorm2d(out_channels * 4)\n",
        "      )\n",
        "\n",
        "    layers.append(Block(self.in_channels, out_channels, identity_downsample, stride))\n",
        "    self.in_channels = out_channels * 4\n",
        "\n",
        "    for i in range(num_residual_blocks - 1):\n",
        "      layers.append(Block(self.in_channels, out_channels))\n",
        "\n",
        "    return nn.Sequential(*layers)"
      ],
      "metadata": {
        "id": "pM51jN9ejH84"
      },
      "execution_count": 2,
      "outputs": []
    },
    {
      "cell_type": "code",
      "source": [
        "device = torch.device('cuda' if torch.cuda.is_available() else 'cpu')\n",
        "print(device)"
      ],
      "metadata": {
        "colab": {
          "base_uri": "https://localhost:8080/"
        },
        "id": "bf2q8xlmIi05",
        "outputId": "e803ece4-f8e9-4915-872d-ce83603a905b"
      },
      "execution_count": 3,
      "outputs": [
        {
          "output_type": "stream",
          "name": "stdout",
          "text": [
            "cuda\n"
          ]
        }
      ]
    },
    {
      "cell_type": "code",
      "source": [
        "def save_checkpoint(state, filename=\"my_checkpoint.pth.tar\"):\n",
        "  print(\"=> Saving checkpoint\")\n",
        "  torch.save(state, filename)\n",
        "\n",
        "\n",
        "def load_checkpoint(checkpoint, model):\n",
        "  print(\"=> Loading checkpoint\")\n",
        "  model.load_state_dict(checkpoint['state_dict'])\n",
        "  optimizer.load_state_dict(checkpoint['state_dict'])\n",
        "\n"
      ],
      "metadata": {
        "id": "TZX-9Eb5OKt6"
      },
      "execution_count": 4,
      "outputs": []
    },
    {
      "cell_type": "code",
      "source": [
        "def ResNet50(image_channels=3, num_classes=1000):\n",
        "  return ResNet(Block, [3, 4, 6, 3], image_channels, num_classes)\n",
        "\n",
        "def ResNet101(image_channels=3, num_classes=1000):\n",
        "  return ResNet(Block, [3, 4, 23, 3], image_channels, num_classes)\n",
        "\n",
        "def ResNet152(image_channels=3, num_classes=1000):\n",
        "  return ResNet(Block, [3, 4, 36, 3], image_channels, num_classes)"
      ],
      "metadata": {
        "id": "kqsIb7yibJr6"
      },
      "execution_count": 5,
      "outputs": []
    },
    {
      "cell_type": "code",
      "source": [
        "def test():\n",
        "  net = ResNet50()\n",
        "  x = torch.randn(64, 3, 224, 224)\n",
        "  y = net(x).to(device)\n",
        "  print(y.shape)"
      ],
      "metadata": {
        "id": "hXvKQUhdbmZb"
      },
      "execution_count": 6,
      "outputs": []
    },
    {
      "cell_type": "code",
      "source": [
        "test()"
      ],
      "metadata": {
        "colab": {
          "base_uri": "https://localhost:8080/"
        },
        "id": "lmSs6Q6mcPIt",
        "outputId": "60c92303-7cf4-445f-a706-a1d6f3ca0f66"
      },
      "execution_count": 7,
      "outputs": [
        {
          "output_type": "stream",
          "name": "stdout",
          "text": [
            "torch.Size([64, 1000])\n"
          ]
        }
      ]
    },
    {
      "cell_type": "code",
      "source": [
        "transform_train = transforms.Compose([\n",
        "    transforms.Resize(224),\n",
        "    #transforms.RandomHorizontalFlip(),\n",
        "    transforms.ToTensor(),\n",
        "    transforms.Normalize((0.5, 0.5, 0.5), (0.5, 0.5, 0.5))\n",
        "])\n",
        "\n",
        "transform_val = transforms.Compose([\n",
        "    transforms.Resize(224),\n",
        "    transforms.ToTensor(),\n",
        "    transforms.Normalize((0.5, 0.5, 0.5), (0.5, 0.5, 0.5))\n",
        "])\n",
        "\n",
        "# Load the CIFAR10 training and validation datasets\n",
        "trainset = torchvision.datasets.CIFAR10(root='./data', train=True, download=True, transform=transform_train)\n",
        "train_loader = DataLoader(trainset, batch_size=32, shuffle=True, num_workers=2)\n",
        "\n",
        "valset = torchvision.datasets.CIFAR10(root='./data', train=False, download=True, transform=transform_val)\n",
        "val_loader = DataLoader(valset, batch_size=32, shuffle=False, num_workers=2)"
      ],
      "metadata": {
        "colab": {
          "base_uri": "https://localhost:8080/"
        },
        "id": "49v1qt9nkkH7",
        "outputId": "ad569f07-7ca1-4452-cb2f-886fcac08424"
      },
      "execution_count": 11,
      "outputs": [
        {
          "output_type": "stream",
          "name": "stdout",
          "text": [
            "Files already downloaded and verified\n",
            "Files already downloaded and verified\n"
          ]
        }
      ]
    },
    {
      "cell_type": "code",
      "source": [
        "model = ResNet50()\n",
        "\n",
        "model = model.to(device)\n",
        "\n",
        "# Define a loss function and optimizer\n",
        "criterion = nn.CrossEntropyLoss()\n",
        "optimizer = optim.Adam(model.parameters(), lr=0.001)\n",
        "\n",
        "num_epochs = 3"
      ],
      "metadata": {
        "id": "pDxFaRO8qEtj"
      },
      "execution_count": 28,
      "outputs": []
    },
    {
      "cell_type": "code",
      "source": [
        "def check_accuracy_and_loss(data_loader, model, criterion, device=device):\n",
        "    num_correct = 0\n",
        "    num_samples = 0\n",
        "    total_loss = 0.0\n",
        "    model.eval()\n",
        "    with torch.no_grad():\n",
        "        for x, y in data_loader:\n",
        "            x = x.to(device=device)\n",
        "            y = y.to(device=device)\n",
        "            scores = model(x)\n",
        "            _, predictions = scores.max(1)\n",
        "            total_loss += criterion(scores, y).item()\n",
        "            num_correct += (predictions == y).sum().item()\n",
        "            num_samples += predictions.size(0)\n",
        "    avg_loss = total_loss / num_samples\n",
        "    accuracy = (num_correct / num_samples) * 100\n",
        "    return accuracy, avg_loss\n",
        "\n",
        "\n",
        "for epoch in range(num_epochs):\n",
        "    print(f'Epoch {epoch + 1}/{num_epochs}')\n",
        "    print('-' * 10)\n",
        "\n",
        "    model.train()\n",
        "    train_loss = 0.0\n",
        "    num_batches = len(train_loader)\n",
        "\n",
        "    for batch_idx, (data, targets) in enumerate(train_loader):\n",
        "        if batch_idx % 50 == 0:\n",
        "          print('=', end='')\n",
        "        # 1) data and targets -> device\n",
        "        data = data.to(device)\n",
        "        targets = targets.to(device)\n",
        "\n",
        "        # 2) optimizer init\n",
        "        optimizer.zero_grad()\n",
        "\n",
        "        # 3) forward prop\n",
        "        outputs = model(data)\n",
        "        loss = criterion(outputs, targets)\n",
        "\n",
        "        # 4) backward prop\n",
        "        loss.backward()\n",
        "        optimizer.step()\n",
        "\n",
        "        train_loss += loss.item()\n",
        "\n",
        "    # Calculate average training loss\n",
        "    avg_train_loss = train_loss / num_batches\n",
        "\n",
        "    # Calculate accuracy and loss for training and validation data\n",
        "    train_acc, train_avg_loss = check_accuracy_and_loss(train_loader, model, criterion, device=device)\n",
        "    validation_acc, validation_avg_loss = check_accuracy_and_loss(val_loader, model, criterion, device=device)\n",
        "    print('\\n')\n",
        "    print(f'Train Accuracy: {train_acc:.2f}% - Validation Accuracy: {validation_acc:.2f}%')\n",
        "    print(f'Train Loss: {avg_train_loss:.4f} - Validation Loss: {validation_avg_loss:.4f}')\n",
        "\n",
        "\n",
        "\n"
      ],
      "metadata": {
        "colab": {
          "base_uri": "https://localhost:8080/"
        },
        "id": "Ri8U_dCnipBX",
        "outputId": "6a06a4c0-8163-475a-a4af-35f26495c158"
      },
      "execution_count": 29,
      "outputs": [
        {
          "output_type": "stream",
          "name": "stdout",
          "text": [
            "Epoch 1/3\n",
            "----------\n",
            "================================\n",
            "\n",
            "Train Accuracy: 51.08% - Validation Accuracy: 51.09%\n",
            "Train Loss: 1.7405 - Validation Loss: 0.0425\n",
            "Epoch 2/3\n",
            "----------\n",
            "================================\n",
            "\n",
            "Train Accuracy: 63.59% - Validation Accuracy: 62.57%\n",
            "Train Loss: 1.2016 - Validation Loss: 0.0333\n",
            "Epoch 3/3\n",
            "----------\n",
            "================================\n",
            "\n",
            "Train Accuracy: 71.23% - Validation Accuracy: 69.60%\n",
            "Train Loss: 0.9641 - Validation Loss: 0.0272\n"
          ]
        }
      ]
    }
  ]
}