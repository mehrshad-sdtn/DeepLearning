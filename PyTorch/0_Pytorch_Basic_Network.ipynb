{
  "nbformat": 4,
  "nbformat_minor": 0,
  "metadata": {
    "colab": {
      "provenance": [],
      "authorship_tag": "ABX9TyNxNvakpc6iTAAWBHXszI5L",
      "include_colab_link": true
    },
    "kernelspec": {
      "name": "python3",
      "display_name": "Python 3"
    },
    "language_info": {
      "name": "python"
    }
  },
  "cells": [
    {
      "cell_type": "markdown",
      "metadata": {
        "id": "view-in-github",
        "colab_type": "text"
      },
      "source": [
        "<a href=\"https://colab.research.google.com/github/mehrshad-sdtn/DeepLearning/blob/master/PyTorch/0_Pytorch_Basic_Network.ipynb\" target=\"_parent\"><img src=\"https://colab.research.google.com/assets/colab-badge.svg\" alt=\"Open In Colab\"/></a>"
      ]
    },
    {
      "cell_type": "code",
      "execution_count": null,
      "metadata": {
        "id": "YoMtnrm3yMcp"
      },
      "outputs": [],
      "source": [
        "# prompt: import all the necessary packages for common pytorch programs\n",
        "\n",
        "import torch\n",
        "import torchvision\n",
        "import torchvision.transforms as transforms\n",
        "from torch.utils.data import DataLoader\n",
        "import torchvision.datasets as datasets\n",
        "import torch.nn as nn\n",
        "import torch.nn.functional as F\n",
        "import torch.optim as optim\n"
      ]
    },
    {
      "cell_type": "code",
      "source": [
        "# Create Fully-Connected network\n",
        "class NN(nn.Module):\n",
        "    def __init__(self, input_size, num_classes):\n",
        "        super(NN, self).__init__()\n",
        "        self.fc1 = nn.Linear(input_size, 50)\n",
        "        self.fc2 = nn.Linear(50, num_classes)\n",
        "\n",
        "    def forward(self, x):\n",
        "        x = F.relu(self.fc1(x))\n",
        "        x = self.fc2(x)\n",
        "        return x\n",
        "\n",
        "\n",
        "#model = NN(784, 10)\n",
        "#x = torch.randn(64, 784)\n",
        "#print(model(x).shape)"
      ],
      "metadata": {
        "id": "uBoWEBpYDIuG"
      },
      "execution_count": null,
      "outputs": []
    },
    {
      "cell_type": "code",
      "source": [
        "device = torch.device('cuda' if torch.cuda.is_available() else 'cpu')\n",
        "print(device)"
      ],
      "metadata": {
        "colab": {
          "base_uri": "https://localhost:8080/"
        },
        "id": "bf2q8xlmIi05",
        "outputId": "7d9aa448-5d5d-4cae-f8ff-a87a7b5b2e17"
      },
      "execution_count": null,
      "outputs": [
        {
          "output_type": "stream",
          "name": "stdout",
          "text": [
            "cpu\n"
          ]
        }
      ]
    },
    {
      "cell_type": "code",
      "source": [
        "# hyperparameters\n",
        "input_size = 784\n",
        "num_classes = 10\n",
        "learning_rate = 0.0001\n",
        "batch_size = 64\n",
        "num_epochs = 5"
      ],
      "metadata": {
        "id": "P6jwGiRrIlh8"
      },
      "execution_count": null,
      "outputs": []
    },
    {
      "cell_type": "code",
      "source": [
        "# load Data\n",
        "train_dataset = datasets.MNIST(root='./data', train=True, transform=transforms.ToTensor(), download=True)\n",
        "train_loader = DataLoader(dataset=train_dataset, batch_size=batch_size, shuffle=True)\n",
        "test_dataset = datasets.MNIST(root='./data', train=False, transform=transforms.ToTensor(), download=True)\n",
        "test_loader = DataLoader(dataset=test_dataset, batch_size=batch_size, shuffle=False)"
      ],
      "metadata": {
        "id": "DOvAExljIu45"
      },
      "execution_count": null,
      "outputs": []
    },
    {
      "cell_type": "code",
      "source": [
        "# initialize network\n",
        "model = NN(input_size= input_size, num_classes= num_classes).to(device)"
      ],
      "metadata": {
        "id": "GkccL0K0JH9s"
      },
      "execution_count": null,
      "outputs": []
    },
    {
      "cell_type": "code",
      "source": [
        "# loss and optimizer\n",
        "criterion = nn.CrossEntropyLoss()\n",
        "optimizer = optim.Adam(model.parameters(), lr=learning_rate)"
      ],
      "metadata": {
        "id": "6K13fg05J1Kw"
      },
      "execution_count": null,
      "outputs": []
    },
    {
      "cell_type": "code",
      "source": [
        "# check accurcy on training and test\n",
        "def check_accuracy(loader, model):\n",
        "  if loader.dataset.train:\n",
        "    print('Checking accuracy on training data:')\n",
        "  else:\n",
        "    print('Checking accuracy on test data')\n",
        "\n",
        "  num_correct = 0\n",
        "  num_samples = 0\n",
        "  model.eval()\n",
        "  with torch.no_grad():\n",
        "    for x, y in loader:\n",
        "      x = x.to(device= device)\n",
        "      y = y.to(device= device)\n",
        "      x = x.reshape(x.shape[0], -1)\n",
        "\n",
        "      scores = model(x) # 64, 10\n",
        "      _, predictions = scores.max(1)\n",
        "      num_correct += (predictions == y).sum()\n",
        "      num_samples += predictions.size(0)\n",
        "\n",
        "    print(f\" {float(num_correct)/float(num_samples)*100:.2f}%\")\n",
        "    model.train()\n",
        "\n",
        "\n",
        "# train\n",
        "for epoch in range(num_epochs):\n",
        "  for batch_idx, (data, targets) in enumerate(train_loader):\n",
        "    # data shaping\n",
        "    data = data.to(device)\n",
        "    targets = targets.to(device)\n",
        "    data = data.reshape(data.shape[0], -1)\n",
        "\n",
        "    # forward\n",
        "    scores = model(data)\n",
        "    loss = criterion(scores, targets)\n",
        "\n",
        "    # backward\n",
        "    optimizer.zero_grad()\n",
        "    loss.backward()\n",
        "\n",
        "    # gradient descent\n",
        "    optimizer.step()\n",
        "\n",
        "  print(f\"Epoch {epoch+1}/{num_epochs}: loss {loss}\")\n",
        "  check_accuracy(train_loader, model)\n",
        "  check_accuracy(test_loader, model)\n",
        "\n",
        "\n",
        "\n",
        "\n",
        "\n"
      ],
      "metadata": {
        "colab": {
          "base_uri": "https://localhost:8080/"
        },
        "id": "LLWSGvzsJ9Pt",
        "outputId": "f927aa16-30f4-4f43-abce-ee474e56780f"
      },
      "execution_count": null,
      "outputs": [
        {
          "output_type": "stream",
          "name": "stdout",
          "text": [
            "Epoch 1/5: loss 0.48897090554237366\n",
            "Checking accuracy on training data:\n",
            " 86.67%\n",
            "Checking accuracy on test data\n",
            " 87.31%\n",
            "Epoch 2/5: loss 0.5054873824119568\n",
            "Checking accuracy on training data:\n",
            " 89.59%\n",
            "Checking accuracy on test data\n",
            " 90.14%\n",
            "Epoch 3/5: loss 0.38287678360939026\n",
            "Checking accuracy on training data:\n",
            " 90.70%\n",
            "Checking accuracy on test data\n",
            " 91.21%\n",
            "Epoch 4/5: loss 0.2688435912132263\n",
            "Checking accuracy on training data:\n",
            " 91.41%\n",
            "Checking accuracy on test data\n",
            " 91.79%\n",
            "Epoch 5/5: loss 0.44690120220184326\n",
            "Checking accuracy on training data:\n",
            " 91.97%\n",
            "Checking accuracy on test data\n",
            " 92.28%\n"
          ]
        }
      ]
    }
  ]
}