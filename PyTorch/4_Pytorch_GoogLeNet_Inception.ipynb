{
  "nbformat": 4,
  "nbformat_minor": 0,
  "metadata": {
    "colab": {
      "provenance": [],
      "gpuType": "L4",
      "authorship_tag": "ABX9TyNXSaeB4zXU+L0g2wRhEf6q",
      "include_colab_link": true
    },
    "kernelspec": {
      "name": "python3",
      "display_name": "Python 3"
    },
    "language_info": {
      "name": "python"
    },
    "accelerator": "GPU"
  },
  "cells": [
    {
      "cell_type": "markdown",
      "metadata": {
        "id": "view-in-github",
        "colab_type": "text"
      },
      "source": [
        "<a href=\"https://colab.research.google.com/github/mehrshad-sdtn/DeepLearning/blob/master/PyTorch/4_Pytorch_GoogLeNet_Inception.ipynb\" target=\"_parent\"><img src=\"https://colab.research.google.com/assets/colab-badge.svg\" alt=\"Open In Colab\"/></a>"
      ]
    },
    {
      "cell_type": "code",
      "execution_count": 1,
      "metadata": {
        "id": "YoMtnrm3yMcp"
      },
      "outputs": [],
      "source": [
        "# prompt: import all the necessary packages for common pytorch programs\n",
        "\n",
        "import torch\n",
        "import torchvision\n",
        "import torchvision.transforms as transforms\n",
        "from torch.utils.data import DataLoader\n",
        "import torchvision.datasets as datasets\n",
        "import torch.nn as nn\n",
        "import torch.nn.functional as F\n",
        "import torch.optim as optim\n",
        "from torchvision import models\n",
        "import os\n"
      ]
    },
    {
      "cell_type": "code",
      "source": [
        "device = torch.device('cuda' if torch.cuda.is_available() else 'cpu')\n",
        "print(device)"
      ],
      "metadata": {
        "colab": {
          "base_uri": "https://localhost:8080/"
        },
        "id": "bf2q8xlmIi05",
        "outputId": "19e1b708-c0ba-4b25-ef65-3ba158a4ec40"
      },
      "execution_count": 2,
      "outputs": [
        {
          "output_type": "stream",
          "name": "stdout",
          "text": [
            "cuda\n"
          ]
        }
      ]
    },
    {
      "cell_type": "code",
      "source": [
        "class GoogLeNet(nn.Module):\n",
        "  def __init__(self, num_classes=1000):\n",
        "    super(GoogLeNet, self).__init__()\n",
        "    self.conv1 = ConvBlock(3, 64, kernel_size=7, stride=2, padding=3)\n",
        "    self.maxpool1 = nn.MaxPool2d(kernel_size=3, stride=2, padding=1)\n",
        "    self.conv2 = ConvBlock(64, 192, kernel_size=3, stride=1, padding=1)\n",
        "    self.maxpool2 = nn.MaxPool2d(kernel_size=3, stride=2, padding=1)\n",
        "\n",
        "    self.inception3a = InceptionBlock(192, 64, 96, 128, 16, 32, 32)\n",
        "    self.inception3b = InceptionBlock(256, 128, 128, 192, 32, 96, 64)\n",
        "    self.maxpool3 = nn.MaxPool2d(kernel_size=3, stride=2, padding=1)\n",
        "\n",
        "    self.inception4a = InceptionBlock(480, 192, 96, 208, 16, 48, 64)\n",
        "    self.inception4b = InceptionBlock(512, 160, 112, 224, 24, 64, 64)\n",
        "    self.inception4c = InceptionBlock(512, 128, 128, 256, 24, 64, 64)\n",
        "    self.inception4d = InceptionBlock(512, 112, 144, 288, 32, 64, 64)\n",
        "    self.inception4e = InceptionBlock(528, 256, 160, 320, 32, 128, 128)\n",
        "    self.maxpool4 = nn.MaxPool2d(kernel_size=3, stride=2, padding=1)\n",
        "\n",
        "    self.inception5a = InceptionBlock(832, 256, 160, 320, 32, 128, 128)\n",
        "    self.inception5b = InceptionBlock(832, 384, 192, 384, 48, 128, 128)\n",
        "\n",
        "    self.avgpool = nn.AvgPool2d(kernel_size=7, stride=1)\n",
        "    self.dropout = nn.Dropout(p=0.4)\n",
        "    self.fc = nn.Linear(1024, num_classes)\n",
        "\n",
        "\n",
        "  def forward(self, x):\n",
        "    x = self.conv1(x)\n",
        "    x = self.maxpool1(x)\n",
        "    x = self.conv2(x)\n",
        "    x = self.maxpool2(x)\n",
        "\n",
        "    x = self.inception3a(x)\n",
        "    x = self.inception3b(x)\n",
        "    x = self.maxpool3(x)\n",
        "\n",
        "    x = self.inception4a(x)\n",
        "    x = self.inception4b(x)\n",
        "    x = self.inception4c(x)\n",
        "    x = self.inception4d(x)\n",
        "    x = self.inception4e(x)\n",
        "    x = self.maxpool4(x)\n",
        "\n",
        "    x = self.inception5a(x)\n",
        "    x = self.inception5b(x)\n",
        "    x = self.avgpool(x)\n",
        "    x = x.reshape(x.shape[0], -1)\n",
        "    x = self.dropout(x)\n",
        "    x = self.fc(x)\n",
        "    return x\n",
        "\n",
        "\n",
        "\n",
        "\n",
        "\n",
        "class InceptionBlock(nn.Module):\n",
        "  def __init__(self, in_channels, out_1x1, red_3x3, out_3x3, red_5x5, out_5x5, out_1x1pool):\n",
        "    super(InceptionBlock, self).__init__()\n",
        "    self.branch1 = ConvBlock(in_channels, out_1x1, kernel_size=1)\n",
        "    self.branch2 = nn.Sequential(\n",
        "        ConvBlock(in_channels, red_3x3, kernel_size=1),\n",
        "        ConvBlock(red_3x3, out_3x3, kernel_size=3, padding=1)\n",
        "        )\n",
        "\n",
        "    self.branch3 = nn.Sequential(\n",
        "        ConvBlock(in_channels, red_5x5, kernel_size=1),\n",
        "        ConvBlock(red_5x5, out_5x5, kernel_size=5, padding=2)\n",
        "        )\n",
        "\n",
        "    self.branch4 = nn.Sequential(\n",
        "        nn.MaxPool2d(kernel_size=3, stride=1, padding=1),\n",
        "        ConvBlock(in_channels, out_1x1pool, kernel_size=1)\n",
        "        )\n",
        "\n",
        "\n",
        "  def forward(self, x):\n",
        "    branch1 = self.branch1(x)\n",
        "    branch2 = self.branch2(x)\n",
        "    branch3 = self.branch3(x)\n",
        "    branch4 = self.branch4(x)\n",
        "    return torch.cat((branch1, branch2, branch3, branch4), dim=1)\n",
        "\n",
        "\n",
        "\n",
        "\n",
        "class ConvBlock(nn.Module):\n",
        "  def __init__(self, in_channels, out_channels, **kwargs):\n",
        "    super(ConvBlock, self).__init__()\n",
        "    self.relu = nn.ReLU()\n",
        "    self.conv = nn.Conv2d(in_channels, out_channels, **kwargs)\n",
        "    self.batchnorm = nn.BatchNorm2d(out_channels)\n",
        "\n",
        "  def forward(self, x):\n",
        "    return self.relu(self.batchnorm(self.conv(x)))"
      ],
      "metadata": {
        "id": "lzLXsH2Ir6wC"
      },
      "execution_count": 3,
      "outputs": []
    },
    {
      "cell_type": "code",
      "source": [
        "def save_checkpoint(state, filename=\"my_checkpoint.pth.tar\"):\n",
        "  print(\"=> Saving checkpoint\")\n",
        "  torch.save(state, filename)\n",
        "\n",
        "\n",
        "def load_checkpoint(checkpoint, model):\n",
        "  print(\"=> Loading checkpoint\")\n",
        "  model.load_state_dict(checkpoint['state_dict'])\n",
        "  optimizer.load_state_dict(checkpoint['state_dict'])\n",
        "\n"
      ],
      "metadata": {
        "id": "TZX-9Eb5OKt6"
      },
      "execution_count": 4,
      "outputs": []
    },
    {
      "cell_type": "code",
      "source": [
        "def test():\n",
        "  net = GoogLeNet()\n",
        "  x = torch.randn(64, 3, 224, 224)\n",
        "  y = net(x).to(device)\n",
        "  print(y.shape)\n",
        "\n",
        "test()"
      ],
      "metadata": {
        "id": "hXvKQUhdbmZb",
        "colab": {
          "base_uri": "https://localhost:8080/"
        },
        "outputId": "88ac25cf-d8b9-49bb-8ebd-227764bb3c4c"
      },
      "execution_count": 5,
      "outputs": [
        {
          "output_type": "stream",
          "name": "stdout",
          "text": [
            "torch.Size([64, 1000])\n"
          ]
        }
      ]
    },
    {
      "cell_type": "code",
      "source": [
        "transform_train = transforms.Compose([\n",
        "    transforms.Resize(224),\n",
        "    #transforms.RandomHorizontalFlip(),\n",
        "    transforms.ToTensor(),\n",
        "    transforms.Normalize((0.5, 0.5, 0.5), (0.5, 0.5, 0.5))\n",
        "])\n",
        "\n",
        "transform_val = transforms.Compose([\n",
        "    transforms.Resize(224),\n",
        "    transforms.ToTensor(),\n",
        "    transforms.Normalize((0.5, 0.5, 0.5), (0.5, 0.5, 0.5))\n",
        "])\n",
        "\n",
        "# Load the CIFAR10 training and validation datasets\n",
        "trainset = torchvision.datasets.CIFAR10(root='./data', train=True, download=True, transform=transform_train)\n",
        "train_loader = DataLoader(trainset, batch_size=64, shuffle=True, num_workers=2)\n",
        "\n",
        "valset = torchvision.datasets.CIFAR10(root='./data', train=False, download=True, transform=transform_val)\n",
        "val_loader = DataLoader(valset, batch_size=64, shuffle=False, num_workers=2)"
      ],
      "metadata": {
        "colab": {
          "base_uri": "https://localhost:8080/"
        },
        "id": "49v1qt9nkkH7",
        "outputId": "845322c9-d8da-46db-eb5c-cfc2f2ac9d3f"
      },
      "execution_count": 6,
      "outputs": [
        {
          "output_type": "stream",
          "name": "stdout",
          "text": [
            "Downloading https://www.cs.toronto.edu/~kriz/cifar-10-python.tar.gz to ./data/cifar-10-python.tar.gz\n"
          ]
        },
        {
          "output_type": "stream",
          "name": "stderr",
          "text": [
            "100%|██████████| 170498071/170498071 [00:13<00:00, 12821985.78it/s]\n"
          ]
        },
        {
          "output_type": "stream",
          "name": "stdout",
          "text": [
            "Extracting ./data/cifar-10-python.tar.gz to ./data\n",
            "Files already downloaded and verified\n"
          ]
        }
      ]
    },
    {
      "cell_type": "code",
      "source": [
        "len(train_loader)"
      ],
      "metadata": {
        "colab": {
          "base_uri": "https://localhost:8080/"
        },
        "id": "k-rkdk_f6Jk9",
        "outputId": "7692756b-631f-44d1-a1fc-f25be24031fb"
      },
      "execution_count": 7,
      "outputs": [
        {
          "output_type": "execute_result",
          "data": {
            "text/plain": [
              "782"
            ]
          },
          "metadata": {},
          "execution_count": 7
        }
      ]
    },
    {
      "cell_type": "code",
      "source": [
        "model = GoogLeNet()\n",
        "\n",
        "model = model.to(device)\n",
        "\n",
        "# Define a loss function and optimizer\n",
        "criterion = nn.CrossEntropyLoss()\n",
        "optimizer = optim.Adam(model.parameters(), lr=0.001)\n",
        "\n",
        "num_epochs = 4"
      ],
      "metadata": {
        "id": "pDxFaRO8qEtj"
      },
      "execution_count": 11,
      "outputs": []
    },
    {
      "cell_type": "code",
      "source": [
        "def check_accuracy_and_loss(data_loader, model, criterion, device=device):\n",
        "    num_correct = 0\n",
        "    num_samples = 0\n",
        "    total_loss = 0.0\n",
        "    model.eval()\n",
        "    with torch.no_grad():\n",
        "        for x, y in data_loader:\n",
        "            x = x.to(device=device)\n",
        "            y = y.to(device=device)\n",
        "            scores = model(x)\n",
        "            _, predictions = scores.max(1)\n",
        "            total_loss += criterion(scores, y).item()\n",
        "            num_correct += (predictions == y).sum().item()\n",
        "            num_samples += predictions.size(0)\n",
        "    avg_loss = total_loss / num_samples\n",
        "    accuracy = (num_correct / num_samples) * 100\n",
        "    return accuracy, avg_loss\n",
        "\n",
        "\n",
        "for epoch in range(num_epochs):\n",
        "    print(f'Epoch {epoch + 1}/{num_epochs}')\n",
        "    print('-' * 10)\n",
        "\n",
        "    model.train()\n",
        "    train_loss = 0.0\n",
        "    num_batches = len(train_loader)\n",
        "\n",
        "    for batch_idx, (data, targets) in enumerate(train_loader):\n",
        "        if batch_idx % 25 == 0:\n",
        "          print('=', end='')\n",
        "        # 1) data and targets -> device\n",
        "        data = data.to(device)\n",
        "        targets = targets.to(device)\n",
        "\n",
        "        # 2) optimizer init\n",
        "        optimizer.zero_grad()\n",
        "\n",
        "        # 3) forward prop\n",
        "        outputs = model(data)\n",
        "        loss = criterion(outputs, targets)\n",
        "\n",
        "        # 4) backward prop\n",
        "        loss.backward()\n",
        "        optimizer.step()\n",
        "\n",
        "        train_loss += loss.item()\n",
        "\n",
        "    # Calculate average training loss\n",
        "    avg_train_loss = train_loss / num_batches\n",
        "\n",
        "    # Calculate accuracy and loss for training and validation data\n",
        "    train_acc, train_avg_loss = check_accuracy_and_loss(train_loader, model, criterion, device=device)\n",
        "    validation_acc, validation_avg_loss = check_accuracy_and_loss(val_loader, model, criterion, device=device)\n",
        "    print('\\n')\n",
        "    print(f'Train Accuracy: {train_acc:.2f}% - Validation Accuracy: {validation_acc:.2f}%')\n",
        "    print(f'Train Loss: {avg_train_loss:.4f} - Validation Loss: {validation_avg_loss:.4f}')\n",
        "\n",
        "\n",
        "\n"
      ],
      "metadata": {
        "colab": {
          "base_uri": "https://localhost:8080/"
        },
        "id": "Ri8U_dCnipBX",
        "outputId": "86ab1316-136c-4d37-92bf-ed26826e5d92"
      },
      "execution_count": 12,
      "outputs": [
        {
          "output_type": "stream",
          "name": "stdout",
          "text": [
            "Epoch 1/4\n",
            "----------\n",
            "================================\n",
            "\n",
            "Train Accuracy: 59.66% - Validation Accuracy: 58.95%\n",
            "Train Loss: 1.4015 - Validation Loss: 0.0186\n",
            "Epoch 2/4\n",
            "----------\n",
            "================================\n",
            "\n",
            "Train Accuracy: 71.09% - Validation Accuracy: 69.70%\n",
            "Train Loss: 0.8761 - Validation Loss: 0.0137\n",
            "Epoch 3/4\n",
            "----------\n",
            "================================\n",
            "\n",
            "Train Accuracy: 80.02% - Validation Accuracy: 76.95%\n",
            "Train Loss: 0.6601 - Validation Loss: 0.0106\n",
            "Epoch 4/4\n",
            "----------\n",
            "================================\n",
            "\n",
            "Train Accuracy: 81.47% - Validation Accuracy: 78.09%\n",
            "Train Loss: 0.5420 - Validation Loss: 0.0100\n"
          ]
        }
      ]
    }
  ]
}