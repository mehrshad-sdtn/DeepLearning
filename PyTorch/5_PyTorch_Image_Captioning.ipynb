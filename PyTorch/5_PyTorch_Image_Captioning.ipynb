{
  "nbformat": 4,
  "nbformat_minor": 0,
  "metadata": {
    "colab": {
      "provenance": [],
      "authorship_tag": "ABX9TyOPotbJ+jG+esrFTekrZs8J",
      "include_colab_link": true
    },
    "kernelspec": {
      "name": "python3",
      "display_name": "Python 3"
    },
    "language_info": {
      "name": "python"
    }
  },
  "cells": [
    {
      "cell_type": "markdown",
      "metadata": {
        "id": "view-in-github",
        "colab_type": "text"
      },
      "source": [
        "<a href=\"https://colab.research.google.com/github/mehrshad-sdtn/DeepLearning/blob/master/PyTorch/5_PyTorch_Image_Captioning.ipynb\" target=\"_parent\"><img src=\"https://colab.research.google.com/assets/colab-badge.svg\" alt=\"Open In Colab\"/></a>"
      ]
    },
    {
      "cell_type": "code",
      "execution_count": null,
      "metadata": {
        "id": "LHmrY4GaS82Z"
      },
      "outputs": [],
      "source": [
        "import torch\n",
        "import torchvision\n",
        "import torchvision.transforms as transforms\n",
        "from torch.utils.data import DataLoader\n",
        "import torchvision.datasets as datasets\n",
        "from torch.utils.tensorboard import SummaryWriter\n",
        "import torch.nn as nn\n",
        "import torch.nn.functional as F\n",
        "import torch.optim as optim\n",
        "from torchvision import models\n",
        "import os"
      ]
    },
    {
      "cell_type": "code",
      "source": [
        "# load data"
      ],
      "metadata": {
        "id": "ANddhdqpTWru"
      },
      "execution_count": null,
      "outputs": []
    },
    {
      "cell_type": "code",
      "source": [
        "# model\n",
        "\n",
        "class EncoderCNN(nn.Module):\n",
        "    def __init__(self, embed_size, train_CNN=False):\n",
        "        super(EncoderCNN, self).__init__()\n",
        "        self.train_CNN = train_CNN\n",
        "        self.inception = models.inception_v3(pretrained=True, aux_logits=False)\n",
        "        self.inception.fc = nn.Linear(self.inception.fc.in_features, embed_size)\n",
        "        self.relu = nn.ReLU()\n",
        "        self.dropout = nn.Dropout(p=0.5)\n",
        "\n",
        "    def forward(self, images):\n",
        "        features = self.inception(images)\n",
        "        for name, param in self.inception.named_parameters():\n",
        "            if 'fc.weight' in name or 'fc.bias' in name:\n",
        "                param.requires_grad = True\n",
        "            else:\n",
        "                param.requires_grad = self.train_CNN\n",
        "        features = self.relu(features)\n",
        "        features = self.dropout(features)\n",
        "        return features\n",
        "\n",
        "\n",
        "\n",
        "\n",
        "\n",
        "class DecoderRNN(nn.Module):\n",
        "    def __init__(self, embed_size, hidden_size, vocab_size, num_layers):\n",
        "        super(DecoderRNN, self).__init__()\n",
        "        self.embed = nn.Embedding(vocab_size, embed_size)\n",
        "        self.lstm = nn.LSTM(embed_size, hidden_size, num_layers)\n",
        "        self.linear = nn.Linear(hidden_size, vocab_size)\n",
        "        self.dropout = nn.Dropout(p=0.5)\n",
        "\n",
        "    def forward(self, features, captions):\n",
        "        embeddings = self.dropout(self.embed(captions))\n",
        "        embeddings = torch.cat((features.unsqueeze(0), embeddings), 0)\n",
        "        lstm_out, _ = self.lstm(embeddings)\n",
        "        outputs = self.linear(lstm_out)\n",
        "        return outputs\n",
        "\n",
        "\n",
        "\n",
        "\n",
        "\n",
        "\n",
        "class CNNtoRNN(nn.Module):\n",
        "    def __init__(self, embed_size, hidden_size, vocab_size, num_layers):\n",
        "        super(CNNtoRNN, self).__init__()\n",
        "        self.encoderCNN = EncoderCNN(embed_size)\n",
        "        self.decoderRNN = DecoderRNN(embed_size, hidden_size, vocab_size, num_layers)\n",
        "\n",
        "    def forward(self, images, captions):\n",
        "        features = self.encoderCNN(images)\n",
        "        outputs = self.decoderRNN(features, captions)\n",
        "        return outputs\n",
        "\n",
        "    def caption_image(self, image, vocabulary, max_length=50):\n",
        "        result_caption = []\n",
        "        with torch.no_grad():\n",
        "            x = self.encoderCNN(image).unsqueeze(0)\n",
        "            states = None\n",
        "\n",
        "            for _ in range(max_length):\n",
        "                hiddens, states = self.decoderRNN.lstm(x, states)\n",
        "                output = self.decoderRNN.linear(hiddens.squeeze(0))\n",
        "                predicted = output.argmax(1)\n",
        "                result_caption.append(predicted.item())\n",
        "                x = self.decoderRNN.embed(predicted).unsqueeze(0)\n",
        "                if vocabulary.itos[predicted.item()] == '<end>':\n",
        "                    break\n",
        "\n",
        "        return [vocabulary.itos[idx] for idx in result_caption]\n",
        "\n",
        ""
      ],
      "metadata": {
        "id": "tZ7vdwYDTMvw"
      },
      "execution_count": null,
      "outputs": []
    },
    {
      "cell_type": "code",
      "source": [
        "# train\n",
        "def train():\n",
        "  transform = transforms.Compose([\n",
        "       transforms.Resize((356, 356)),\n",
        "       transforms.CenterCrop((299, 299)),\n",
        "       transforms.ToTensor(),\n",
        "       transforms.Normalize((0.5, 0.5, 0.5), (0.5, 0.5, 0.5))\n",
        "       ])\n",
        "\n",
        "  train_loader, dataset = get_loader(\n",
        "      root_folder='flickr8k/images',\n",
        "      annotation_file='flickr8k/captions.txt',\n",
        "      transform=transform,\n",
        "      num_workers=2,\n",
        "      )\n",
        "  torch.backends.cudnn.benchmark = True\n",
        "  device = torch.device(\"cuda\" if torch.cuda.is_available() else \"cpu\")\n",
        "  load_model = False\n",
        "  save_model = True\n",
        "\n",
        "\n",
        "  writer = SummaryWriter('runs/flickr8k')\n",
        "  step=0\n",
        "\n",
        "\n",
        "  model = CNNtoRNN(embed_size=256,\n",
        "                   hidden_size=256,\n",
        "                   vocab_size=len(dataset.vocab),\n",
        "                   num_layers=1)\n",
        "  criterion = nn.CrossEntropyLoss(ignore_index=dataset.vocab.stoi[\"<PAD>\"])\n",
        "  optimizer = optim.Adam(model.parameters(), lr=0.0003)\n",
        "\n",
        "  if load_model:\n",
        "    step = load_checkpoint(torch.load('my_checkpoint.pth.tar'), model, optimizer)\n",
        "\n",
        "  model.to(device)\n",
        "  model.train()\n",
        "\n",
        "\n",
        "### To Be Completed\n",
        "\n",
        "\n"
      ],
      "metadata": {
        "id": "kHtI487mTThu"
      },
      "execution_count": null,
      "outputs": []
    }
  ]
}