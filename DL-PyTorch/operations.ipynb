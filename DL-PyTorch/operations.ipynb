{
  "nbformat": 4,
  "nbformat_minor": 0,
  "metadata": {
    "colab": {
      "provenance": [],
      "authorship_tag": "ABX9TyOirAgDibgivN6qKPZpOF93",
      "include_colab_link": true
    },
    "kernelspec": {
      "name": "python3",
      "display_name": "Python 3"
    },
    "language_info": {
      "name": "python"
    }
  },
  "cells": [
    {
      "cell_type": "markdown",
      "metadata": {
        "id": "view-in-github",
        "colab_type": "text"
      },
      "source": [
        "<a href=\"https://colab.research.google.com/github/mehrshad-sdtn/DeepLearning/blob/master/DL-PyTorch/operations.ipynb\" target=\"_parent\"><img src=\"https://colab.research.google.com/assets/colab-badge.svg\" alt=\"Open In Colab\"/></a>"
      ]
    },
    {
      "cell_type": "code",
      "execution_count": 1,
      "metadata": {
        "id": "_hdKJ6zJ9loF"
      },
      "outputs": [],
      "source": [
        "import torch"
      ]
    },
    {
      "cell_type": "code",
      "source": [
        "print(torch.cuda.is_available())\n",
        "print(torch.randn(2, 2))"
      ],
      "metadata": {
        "colab": {
          "base_uri": "https://localhost:8080/"
        },
        "id": "5Fo3OIET6Nms",
        "outputId": "ba82387a-b371-4e25-e095-35fd70a750ad"
      },
      "execution_count": 6,
      "outputs": [
        {
          "output_type": "stream",
          "name": "stdout",
          "text": [
            "False\n",
            "tensor([[-0.6561,  1.8127],\n",
            "        [-0.2711,  0.5104]])\n"
          ]
        }
      ]
    },
    {
      "cell_type": "code",
      "source": [
        "x = torch.zeros(3, 3)\n",
        "x"
      ],
      "metadata": {
        "colab": {
          "base_uri": "https://localhost:8080/"
        },
        "id": "bfWMLd306aej",
        "outputId": "1c7aed5a-ff1d-4a6b-c282-59c61aabd039"
      },
      "execution_count": 11,
      "outputs": [
        {
          "output_type": "execute_result",
          "data": {
            "text/plain": [
              "tensor([[0., 0., 0.],\n",
              "        [0., 0., 0.],\n",
              "        [0., 0., 0.]])"
            ]
          },
          "metadata": {},
          "execution_count": 11
        }
      ]
    },
    {
      "cell_type": "code",
      "source": [
        "cpu_tensor = torch.rand(2)\n",
        "cpu_tensor.device"
      ],
      "metadata": {
        "colab": {
          "base_uri": "https://localhost:8080/"
        },
        "id": "9kocPrsx6jwJ",
        "outputId": "500c88a9-84c2-437d-cb55-c8e889e91ed0"
      },
      "execution_count": 18,
      "outputs": [
        {
          "output_type": "execute_result",
          "data": {
            "text/plain": [
              "device(type='cpu')"
            ]
          },
          "metadata": {},
          "execution_count": 18
        }
      ]
    },
    {
      "cell_type": "code",
      "source": [
        "## operations\n",
        "a = torch.rand(1, 2)\n",
        "b = torch.rand(1, 2)\n",
        "c = a + b\n",
        "\n",
        "## broadcast\n",
        "a2 = a * torch.tensor(2)\n",
        "print(a2)\n",
        "## log\n",
        "d = torch.rand(2, 2)\n",
        "logd = d.log2()\n",
        "print(logd)"
      ],
      "metadata": {
        "colab": {
          "base_uri": "https://localhost:8080/"
        },
        "id": "Lf_WVDzsBYUO",
        "outputId": "09c23458-9450-46c7-c054-e0e64f0d3040"
      },
      "execution_count": 37,
      "outputs": [
        {
          "output_type": "stream",
          "name": "stdout",
          "text": [
            "tensor([[1.2721, 0.6617]])\n",
            "tensor([[-0.9788, -0.4338],\n",
            "        [-0.4546, -2.5006]])\n"
          ]
        }
      ]
    },
    {
      "cell_type": "code",
      "source": [
        "## reshaping tensors\n",
        "flat_tensor = torch.rand(784)\n",
        "viewed_tensor = flat_tensor.view(1, 28, 28)\n",
        "print(viewed_tensor.shape)\n",
        "reshaped_tensor = flat_tensor.reshape(1, 28, 28)\n",
        "print(reshaped_tensor.shape)"
      ],
      "metadata": {
        "colab": {
          "base_uri": "https://localhost:8080/"
        },
        "id": "Qm3Ke4ew7WED",
        "outputId": "440051a2-b33a-4a9c-c3e0-f6db7213995e"
      },
      "execution_count": 23,
      "outputs": [
        {
          "output_type": "stream",
          "name": "stdout",
          "text": [
            "torch.Size([1, 28, 28])\n",
            "torch.Size([1, 28, 28])\n"
          ]
        }
      ]
    },
    {
      "cell_type": "code",
      "source": [
        "hwc_tensor = torch.rand(640, 480, 3)\n",
        "chw_tensor = hwc_tensor.permute(2, 0, 1)\n",
        "chw_tensor.shape"
      ],
      "metadata": {
        "colab": {
          "base_uri": "https://localhost:8080/"
        },
        "id": "8pF69M_UA0rA",
        "outputId": "b03e919c-9fb8-4e0f-c9cc-25b3488b6769"
      },
      "execution_count": 25,
      "outputs": [
        {
          "output_type": "execute_result",
          "data": {
            "text/plain": [
              "torch.Size([3, 640, 480])"
            ]
          },
          "metadata": {},
          "execution_count": 25
        }
      ]
    }
  ]
}