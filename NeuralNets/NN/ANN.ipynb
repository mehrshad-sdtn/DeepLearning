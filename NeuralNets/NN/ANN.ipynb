{
 "cells": [
  {
   "cell_type": "code",
   "execution_count": 101,
   "id": "00987cdc",
   "metadata": {},
   "outputs": [],
   "source": [
    "import numpy as np\n",
    "import matplotlib as plt"
   ]
  },
  {
   "cell_type": "code",
   "execution_count": 71,
   "id": "e1af3eae",
   "metadata": {},
   "outputs": [],
   "source": [
    "def sigmoid(z):\n",
    "    return 1/(1+np.exp(-z))\n",
    "    "
   ]
  },
  {
   "cell_type": "code",
   "execution_count": 145,
   "id": "85a196dd",
   "metadata": {},
   "outputs": [],
   "source": [
    "def relu(z):\n",
    "    if z > 0:\n",
    "        return z\n",
    "    else:\n",
    "        return 0"
   ]
  },
  {
   "cell_type": "code",
   "execution_count": null,
   "id": "a7cac225",
   "metadata": {},
   "outputs": [],
   "source": [
    "def get_cost(AL, Y):\n",
    "    m = Y.shape[1]\n",
    "    cost = np.multiply(np.log(AL),Y) + np.multiply(np.log(1 - AL),(1 - Y))\n",
    "    cost = -1 * (1/m) * np.sum(cost)\n",
    "    cost = np.squeeze(cost)  \n",
    "    return cost"
   ]
  },
  {
   "cell_type": "code",
   "execution_count": null,
   "id": "3adf3e36",
   "metadata": {},
   "outputs": [],
   "source": [
    "def sigmoid_deriv(z):\n",
    "    pass"
   ]
  },
  {
   "cell_type": "code",
   "execution_count": null,
   "id": "36d65540",
   "metadata": {},
   "outputs": [],
   "source": [
    "def relu_deriv(z):\n",
    "    pass"
   ]
  },
  {
   "cell_type": "code",
   "execution_count": 166,
   "id": "734e1301",
   "metadata": {},
   "outputs": [],
   "source": [
    "class NeuralNet():\n",
    "    def __init__(self, layers_dims):\n",
    "        self.layers_dims = layers_dims\n",
    "        self.ls = len(layers_dims)\n",
    "        self.params = {}\n",
    "        for l in range(1, ls):\n",
    "            print(l)\n",
    "            params['W' + str(l)] = np.random.randn(layers_dims[l], layers_dims[l-1])\n",
    "            params['b' + str(l)] = np.zeros((layers_dims[l], 1))\n",
    "        print(params)\n",
    "        \n",
    "        \n",
    "    def forward_prop(self, X, Y):\n",
    "        costs = []\n",
    "        Z_list = []\n",
    "        A_list = []\n",
    "        layers = self.ls\n",
    "        A_prev = X\n",
    "        for l in range(1, layers):\n",
    "            W = self.params['W' + str(l)]\n",
    "            b = self.params['b' + str(l)]\n",
    "            Z = np.dot(W, A_prev) + b\n",
    "            Z_list.append(Z)\n",
    "            \n",
    "            g = None\n",
    "            if l == layers - 1:\n",
    "                g = sigmoid\n",
    "            else:\n",
    "                g == relu\n",
    "            A = g(Z)\n",
    "            A_list.append(A_prev)\n",
    "            J = get_cost(A, Y)\n",
    "            costs.append(J)\n",
    "            A_prev = A\n",
    "        return costs, Z_list, A_list\n",
    "           \n",
    "        \n",
    "        \n",
    "        \n",
    "        \n",
    "    def back_prop(self, cache):\n",
    "        grads = {}\n",
    "        layers = self.ls\n",
    "        for l in reversed(range(1, layers)):\n",
    "            Zl = cache[0][l]\n",
    "            A = cache[1][l]\n",
    "            dA = \n",
    "            g_back = None\n",
    "            if l == layers:\n",
    "                g_back = sigmoid_deriv\n",
    "            else:\n",
    "                g_back = relu_deriv\n",
    "                \n",
    "            dZ = dA * g_back(Zl)\n",
    "            dW = (1/m)*np.dot(Z, A.T)\n",
    "            db = (1/m)*np.sum(dZ, axis=1, keepdims=True)\n",
    "        \n",
    "            W = self.params['W'+str(l)]\n",
    "            dA_prev = np.dot(W.T, dZ)\n",
    "        \n",
    "            dA = dA_prev\n",
    "        \n",
    "            grads['dW'+str(l)] = dW\n",
    "            grads['db'+str(l)] = db\n",
    "        return grads\n",
    "\n",
    "    \n",
    "    \n",
    "    def fit(self, X, Y, learning_rate, epochs):\n",
    "        for i in range(epochs):\n",
    "            for_pass = self.forward_prop(X, Y)  #returns costs, Zs\n",
    "            cache = (for_pass[1], for_pass[2])\n",
    "            grads = self.back_prop(cache)\n",
    "            lr = learning_rate\n",
    "            for l in range(self.ls):\n",
    "                self.params['W'+ str(l+1)] = self.params['W'+ str(l+1)] - lr*grads['dW'+str(l+1)]\n",
    "                self.params['b'+ str(l+1)] = self.params['b'+ str(l+1)] - lr*grads['db'+str(l+1)]\n",
    "        \n",
    "    \n",
    "        \n",
    "    "
   ]
  },
  {
   "cell_type": "code",
   "execution_count": 155,
   "id": "727e1627",
   "metadata": {},
   "outputs": [
    {
     "name": "stdout",
     "output_type": "stream",
     "text": [
      "4\n",
      "3\n",
      "2\n",
      "1\n"
     ]
    }
   ],
   "source": [
    "layers_dims = [4, 3, 2]\n",
    "#neural_net(layers_dims)\n",
    "back_prop(5)"
   ]
  }
 ],
 "metadata": {
  "kernelspec": {
   "display_name": "Python 3 (ipykernel)",
   "language": "python",
   "name": "python3"
  },
  "language_info": {
   "codemirror_mode": {
    "name": "ipython",
    "version": 3
   },
   "file_extension": ".py",
   "mimetype": "text/x-python",
   "name": "python",
   "nbconvert_exporter": "python",
   "pygments_lexer": "ipython3",
   "version": "3.9.6"
  }
 },
 "nbformat": 4,
 "nbformat_minor": 5
}
