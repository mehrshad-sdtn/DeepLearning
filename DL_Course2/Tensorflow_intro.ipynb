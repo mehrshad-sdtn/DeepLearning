{
 "cells": [
  {
   "cell_type": "code",
   "execution_count": 1,
   "id": "8b4845db",
   "metadata": {},
   "outputs": [],
   "source": [
    "import numpy as np\n",
    "import tensorflow as tf\n",
    "from tensorflow import keras"
   ]
  },
  {
   "cell_type": "code",
   "execution_count": 2,
   "id": "64b369fb",
   "metadata": {},
   "outputs": [],
   "source": [
    "w = tf.Variable(0, dtype=tf.float32)\n",
    "optimizer = keras.optimizers.Adam(learning_rate=0.1)"
   ]
  },
  {
   "cell_type": "code",
   "execution_count": 7,
   "id": "5316553f",
   "metadata": {},
   "outputs": [
    {
     "name": "stdout",
     "output_type": "stream",
     "text": [
      "<tf.Variable 'Variable:0' shape=() dtype=float32, numpy=0.0>\n"
     ]
    }
   ],
   "source": [
    "def train_step():\n",
    "    with tf.GradientTape() as tape:\n",
    "        cost = w**2 - 10*w + 25\n",
    "    trainable_variables = [w]\n",
    "    grads = tape.gradient(cost, trainable_variables)\n",
    "    optimizer.apply_gradients(zip(grads, trainable_variables))\n",
    "print(w)"
   ]
  },
  {
   "cell_type": "code",
   "execution_count": 8,
   "id": "ecc0412e",
   "metadata": {
    "scrolled": true
   },
   "outputs": [
    {
     "name": "stdout",
     "output_type": "stream",
     "text": [
      "<tf.Variable 'Variable:0' shape=() dtype=float32, numpy=0.09999997>\n"
     ]
    }
   ],
   "source": [
    "train_step()\n",
    "print(w)"
   ]
  },
  {
   "cell_type": "code",
   "execution_count": 9,
   "id": "27be1d83",
   "metadata": {},
   "outputs": [
    {
     "name": "stdout",
     "output_type": "stream",
     "text": [
      "<tf.Variable 'Variable:0' shape=() dtype=float32, numpy=5.000001>\n"
     ]
    }
   ],
   "source": [
    "for i in range(0, 1000):\n",
    "    train_step()\n",
    "print(w)\n",
    "\n",
    "#cool"
   ]
  },
  {
   "cell_type": "code",
   "execution_count": 10,
   "id": "e40a4046",
   "metadata": {},
   "outputs": [],
   "source": [
    "w = tf.Variable(0, dtype=tf.float32)\n",
    "x = np.array([1.0, -10.0, 25.0])\n",
    "optimizer = keras.optimizers.Adam(learning_rate=0.1)"
   ]
  },
  {
   "cell_type": "code",
   "execution_count": 16,
   "id": "49605f10",
   "metadata": {},
   "outputs": [],
   "source": [
    "def training(x, w, optimizer):\n",
    "    def cost_fn():\n",
    "        return x[0] * (w**2) - x[1] * w + x[2]\n",
    "    for i in range(0, 1000):\n",
    "        optimizer.minimize(cost_fn, [w])\n",
    "    return w        "
   ]
  },
  {
   "cell_type": "code",
   "execution_count": 18,
   "id": "81445a42",
   "metadata": {},
   "outputs": [
    {
     "name": "stdout",
     "output_type": "stream",
     "text": [
      "<tf.Variable 'Variable:0' shape=() dtype=float32, numpy=-5.0000005>\n"
     ]
    }
   ],
   "source": [
    "w = training(x, w, optimizer)\n",
    "print(w)\n",
    "#cooler"
   ]
  }
 ],
 "metadata": {
  "kernelspec": {
   "display_name": "Python 3 (ipykernel)",
   "language": "python",
   "name": "python3"
  },
  "language_info": {
   "codemirror_mode": {
    "name": "ipython",
    "version": 3
   },
   "file_extension": ".py",
   "mimetype": "text/x-python",
   "name": "python",
   "nbconvert_exporter": "python",
   "pygments_lexer": "ipython3",
   "version": "3.9.6"
  }
 },
 "nbformat": 4,
 "nbformat_minor": 5
}
