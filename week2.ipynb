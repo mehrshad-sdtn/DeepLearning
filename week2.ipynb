{
 "cells": [
  {
   "cell_type": "code",
   "execution_count": 1,
   "id": "1c1422d0",
   "metadata": {},
   "outputs": [],
   "source": [
    "import numpy as np"
   ]
  },
  {
   "cell_type": "markdown",
   "id": "b7b4dfa6",
   "metadata": {},
   "source": [
    "#### Vectorization"
   ]
  },
  {
   "cell_type": "code",
   "execution_count": 28,
   "id": "0e871045",
   "metadata": {},
   "outputs": [
    {
     "name": "stdout",
     "output_type": "stream",
     "text": [
      "[0 1 2]\n"
     ]
    }
   ],
   "source": [
    "a = np.array([0, 1, 2])\n",
    "print(a)"
   ]
  },
  {
   "cell_type": "code",
   "execution_count": 11,
   "id": "a1ce989b",
   "metadata": {},
   "outputs": [
    {
     "name": "stdout",
     "output_type": "stream",
     "text": [
      "249900.87279515096  - non-vectorized: 4.982471466064453\n",
      "249900.87279514674  - non-vectorized: 567.1525001525879\n"
     ]
    }
   ],
   "source": [
    "# WEEK 2 - VECTORIZATION\n",
    "import time\n",
    "\n",
    "dim = 1000000\n",
    "a = np.random.rand(dim)\n",
    "b = np.random.rand(dim)\n",
    "\n",
    "\n",
    "# vectorized\n",
    "tic = time.time()\n",
    "c = np.dot(a, b)\n",
    "toc = time.time()\n",
    "print(c, ' - non-vectorized: '+ str((toc - tic)*1000))\n",
    "\n",
    "\n",
    "#for loop\n",
    "c = 0\n",
    "tic = time.time()\n",
    "for i in range(dim):\n",
    "    c += a[i] * b[i]\n",
    "toc = time.time()\n",
    "print(c, ' - non-vectorized: '+ str((toc - tic)*1000))"
   ]
  },
  {
   "cell_type": "code",
   "execution_count": 24,
   "id": "70a5f7ee",
   "metadata": {},
   "outputs": [],
   "source": [
    "d = np.zeros((3, 1))"
   ]
  },
  {
   "cell_type": "code",
   "execution_count": 14,
   "id": "87e34285",
   "metadata": {},
   "outputs": [
    {
     "name": "stdout",
     "output_type": "stream",
     "text": [
      "[[ 56.    0.    4.4  68. ]\n",
      " [  1.2 104.   52.    8. ]\n",
      " [  1.8 135.   99.    0.9]]\n"
     ]
    }
   ],
   "source": [
    "#broadcasting\n",
    "A = np.array([\n",
    "    [56.0, 0.0,  4.4,  68.0],\n",
    "    [1.2 , 104.0, 52.0, 8.0],\n",
    "    [1.8 , 135.0, 99.0, 0.9]\n",
    "])\n",
    "\n",
    "print(A)"
   ]
  },
  {
   "cell_type": "code",
   "execution_count": 15,
   "id": "9856bd5f",
   "metadata": {
    "scrolled": true
   },
   "outputs": [
    {
     "name": "stdout",
     "output_type": "stream",
     "text": [
      "[ 59.  239.  155.4  76.9]\n"
     ]
    }
   ],
   "source": [
    "cal = A.sum(axis=0) #sum vertically\n",
    "print(cal)"
   ]
  },
  {
   "cell_type": "code",
   "execution_count": 23,
   "id": "94c13538",
   "metadata": {},
   "outputs": [
    {
     "name": "stdout",
     "output_type": "stream",
     "text": [
      "[[94.91525424  0.          2.83140283 88.42652796]\n",
      " [ 2.03389831 43.51464435 33.46203346 10.40312094]\n",
      " [ 3.05084746 56.48535565 63.70656371  1.17035111]]\n"
     ]
    }
   ],
   "source": [
    "percentage = 100*A/(cal.reshape(1, 4))\n",
    "print(percentage)"
   ]
  },
  {
   "cell_type": "code",
   "execution_count": 26,
   "id": "3a77f082",
   "metadata": {
    "scrolled": true
   },
   "outputs": [
    {
     "name": "stdout",
     "output_type": "stream",
     "text": [
      "[[100.]\n",
      " [100.]\n",
      " [100.]]\n"
     ]
    }
   ],
   "source": [
    "print(d + 100)"
   ]
  },
  {
   "cell_type": "code",
   "execution_count": 44,
   "id": "6954c3b1",
   "metadata": {},
   "outputs": [
    {
     "name": "stdout",
     "output_type": "stream",
     "text": [
      "[ 1.07758448 -0.27295633 -0.61618625 -1.64054072  1.8205573 ]\n",
      "[[ 1.07758448]\n",
      " [-0.27295633]\n",
      " [-0.61618625]\n",
      " [-1.64054072]\n",
      " [ 1.8205573 ]]\n"
     ]
    }
   ],
   "source": [
    "# random gaussian vector\n",
    "e = np.random.randn(5) # rank 1 matrix\n",
    "print(e)\n",
    "e_reshape = e.reshape((5, 1))\n",
    "print(e_reshape)"
   ]
  },
  {
   "cell_type": "code",
   "execution_count": 45,
   "id": "c0972eb3",
   "metadata": {},
   "outputs": [
    {
     "name": "stdout",
     "output_type": "stream",
     "text": [
      "True\n"
     ]
    }
   ],
   "source": [
    "try:\n",
    "    assert(e.shape == (5,))\n",
    "    print(True)\n",
    "except AssertionError:\n",
    "    print(False)\n",
    "   "
   ]
  }
 ],
 "metadata": {
  "kernelspec": {
   "display_name": "Python 3 (ipykernel)",
   "language": "python",
   "name": "python3"
  },
  "language_info": {
   "codemirror_mode": {
    "name": "ipython",
    "version": 3
   },
   "file_extension": ".py",
   "mimetype": "text/x-python",
   "name": "python",
   "nbconvert_exporter": "python",
   "pygments_lexer": "ipython3",
   "version": "3.9.6"
  }
 },
 "nbformat": 4,
 "nbformat_minor": 5
}
